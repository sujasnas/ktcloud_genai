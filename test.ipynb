{
  "cells": [
    {
      "cell_type": "markdown",
      "metadata": {
        "id": "view-in-github",
        "colab_type": "text"
      },
      "source": [
        "<a href=\"https://colab.research.google.com/github/sujasnas/ktcloud_genai/blob/main/test.ipynb\" target=\"_parent\"><img src=\"https://colab.research.google.com/assets/colab-badge.svg\" alt=\"Open In Colab\"/></a>"
      ]
    },
    {
      "cell_type": "code",
      "execution_count": null,
      "metadata": {
        "id": "kQd9JddCitFy"
      },
      "outputs": [],
      "source": [
        "print('HELLO')"
      ]
    },
    {
      "cell_type": "markdown",
      "metadata": {
        "id": "wyZVkTEvi9kr"
      },
      "source": [
        "# 학습환경 구성"
      ]
    },
    {
      "cell_type": "markdown",
      "metadata": {
        "id": "Iyc2DzLpjO07"
      },
      "source": [
        "## 1. 파이썬 버전 확인"
      ]
    },
    {
      "cell_type": "code",
      "execution_count": null,
      "metadata": {
        "colab": {
          "background_save": true,
          "base_uri": "https://localhost:8080/"
        },
        "id": "ksp2Nc6TjXY_",
        "outputId": "cbcf89db-fe56-46d5-de67-1a0120323226"
      },
      "outputs": [
        {
          "name": "stdout",
          "output_type": "stream",
          "text": [
            "Python 3.12.11 (main, Jun  4 2025, 08:56:18) [GCC 11.4.0] on linux\n",
            "Type \"help\", \"copyright\", \"credits\" or \"license\" for more information.\n",
            ">>> "
          ]
        }
      ],
      "source": [
        "!python"
      ]
    },
    {
      "cell_type": "code",
      "execution_count": null,
      "metadata": {
        "id": "pFQ-1yoLjueV"
      },
      "outputs": [],
      "source": [
        "import sys\n",
        "\n",
        "print(sys.executable)\n"
      ]
    },
    {
      "cell_type": "code",
      "execution_count": null,
      "metadata": {
        "id": "c0rf37irkAYa"
      },
      "outputs": [],
      "source": []
    }
  ],
  "metadata": {
    "colab": {
      "provenance": [],
      "authorship_tag": "ABX9TyNsfc6fLmz4liCOZTChtEBy",
      "include_colab_link": true
    },
    "kernelspec": {
      "display_name": "Python 3",
      "name": "python3"
    },
    "language_info": {
      "name": "python"
    }
  },
  "nbformat": 4,
  "nbformat_minor": 0
}